{
 "cells": [
  {
   "cell_type": "code",
   "execution_count": null,
   "metadata": {},
   "outputs": [],
   "source": [
    "import pandas as pd\n",
    "from Bio import SeqIO\n",
    "import matplotlib as mpl\n",
    "import random\n",
    "import numpy\n",
    "from matplotlib import pyplot\n",
    "% matplotlib inline"
   ]
  },
  {
   "cell_type": "code",
   "execution_count": null,
   "metadata": {},
   "outputs": [],
   "source": [
    "fastaA = \"../testdata/95-Q03-48_ACTCGCTA-GTAAGGAG_spades_scaffolds.fasta\"\n",
    "fastaB = \"../testdata/97-Q04-03_ACTCGCTA-AAGGAGTA_spades_scaffolds.fasta\""
   ]
  },
  {
   "cell_type": "code",
   "execution_count": null,
   "metadata": {},
   "outputs": [],
   "source": [
    "def lengths(fastafile):\n",
    "    lengths = []\n",
    "    with open(fastafile, \"r\") as handle:\n",
    "        for record in SeqIO.parse(handle, \"fasta\"):\n",
    "            lengths.append(len(record))  \n",
    "    lengths.sort()\n",
    "    return(lengths)"
   ]
  },
  {
   "cell_type": "code",
   "execution_count": null,
   "metadata": {},
   "outputs": [],
   "source": [
    "lengthsA=lengths(fastaA)\n",
    "lengthsB=lengths(fastaB)\n",
    "max(lengthsA)"
   ]
  },
  {
   "cell_type": "code",
   "execution_count": null,
   "metadata": {},
   "outputs": [],
   "source": [
    "maxval = max(lengthsA)\n",
    "print(maxval)\n",
    "if max(lengthsB) >= max(lengthsA):\n",
    "    maxval = max(lengthsB) \n",
    "print(maxval)\n",
    "bins = numpy.linspace(0, maxval, 50)\n",
    "pyplot.hist(lengthsA, bins, alpha=0.5, label='A')\n",
    "pyplot.hist(lengthsB, bins, alpha=0.5, label='B')\n",
    "pyplot.legend(loc='upper right')\n",
    "pyplot.show()"
   ]
  },
  {
   "cell_type": "code",
   "execution_count": null,
   "metadata": {},
   "outputs": [],
   "source": [
    "maxval = 100000\n",
    "bins = numpy.linspace(0, maxval, 50)\n",
    "pyplot.hist(lengthsA, bins, alpha=0.5, label='A')\n",
    "pyplot.hist(lengthsB, bins, alpha=0.5, label='B')\n",
    "pyplot.legend(loc='upper right')\n",
    "pyplot.show()"
   ]
  },
  {
   "cell_type": "code",
   "execution_count": null,
   "metadata": {},
   "outputs": [],
   "source": [
    "maxval = 10000\n",
    "bins = numpy.linspace(0, maxval, 50)\n",
    "pyplot.hist(lengthsA, bins, alpha=0.5, label='A')\n",
    "pyplot.hist(lengthsB, bins, alpha=0.5, label='B')\n",
    "pyplot.legend(loc='upper right')\n",
    "pyplot.show()"
   ]
  },
  {
   "cell_type": "code",
   "execution_count": null,
   "metadata": {},
   "outputs": [],
   "source": []
  }
 ],
 "metadata": {
  "kernelspec": {
   "display_name": "Python 3",
   "language": "python",
   "name": "python3"
  },
  "language_info": {
   "codemirror_mode": {
    "name": "ipython",
    "version": 3
   },
   "file_extension": ".py",
   "mimetype": "text/x-python",
   "name": "python",
   "nbconvert_exporter": "python",
   "pygments_lexer": "ipython3",
   "version": "3.6.3"
  }
 },
 "nbformat": 4,
 "nbformat_minor": 2
}
