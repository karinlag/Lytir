{
 "cells": [
  {
   "cell_type": "code",
   "execution_count": null,
   "metadata": {},
   "outputs": [],
   "source": [
    "import pandas as pd\n",
    "pd.options.display.float_format = '{:.2f}'.format\n",
    "import numpy as np"
   ]
  },
  {
   "cell_type": "code",
   "execution_count": null,
   "metadata": {},
   "outputs": [],
   "source": [
    "headcrop15 = pd.read_csv(\"../testdata/headcrop15_transposed_report.tsv\", delimiter=\"\\t\")\n",
    "standard = pd.read_csv(\"../testdata/standard_transposed_report.tsv\", delimiter=\"\\t\")\n",
    "q2 = pd.read_csv(\"../testdata/q2_transposed_report.tsv\", delimiter=\"\\t\")\n",
    "q8 = pd.read_csv(\"../testdata/q8_transposed_report.tsv\", delimiter=\"\\t\")\n",
    "q20 = pd.read_csv(\"../testdata/q20_transposed_report.tsv\", delimiter='\\t')\n",
    "filedict= {'headcrop15': headcrop15, 'standard': standard, 'q2':q2, 'q8': q8, 'q20':q20}"
   ]
  },
  {
   "cell_type": "code",
   "execution_count": null,
   "metadata": {},
   "outputs": [],
   "source": [
    "def split_genes(filedict):\n",
    "    for qfile in filedict.keys():\n",
    "        curr_df = filedict[qfile]\n",
    "        curr_df[['WholeGenes','b']] = curr_df['# genes'].str.split(\"+\", expand=True)\n",
    "        curr_df['WholeGenes'] = curr_df['WholeGenes'].astype(int)\n",
    "        curr_df[['PartGenes', \"ending\"]] = curr_df['b'].str.split(expand=True)\n",
    "        curr_df['PartGenes'] = curr_df['PartGenes'].astype(int)\n",
    "split_genes(filedict)"
   ]
  },
  {
   "cell_type": "code",
   "execution_count": null,
   "metadata": {},
   "outputs": [],
   "source": [
    "paramlist = ['N50','# contigs', '# contigs (>= 1000 bp)', 'Total length', 'Largest contig', 'Genome fraction (%)','# misassemblies', '# misassembled contigs', \"WholeGenes\", \"PartGenes\"]\n",
    "\n",
    "def make_asm_eval_table(filedict, paramlist):\n",
    "    df = pd.DataFrame(index=filedict.keys(), columns = paramlist)\n",
    "    for qfile in filedict.keys():\n",
    "        for param in paramlist:\n",
    "            df.loc[qfile, param] = np.mean(filedict[qfile][param])\n",
    "    return df\n",
    "result = make_asm_eval_table(filedict, paramlist)\n",
    "result"
   ]
  },
  {
   "cell_type": "code",
   "execution_count": null,
   "metadata": {},
   "outputs": [],
   "source": []
  },
  {
   "cell_type": "code",
   "execution_count": null,
   "metadata": {},
   "outputs": [],
   "source": []
  }
 ],
 "metadata": {
  "kernelspec": {
   "display_name": "Python 3",
   "language": "python",
   "name": "python3"
  },
  "language_info": {
   "codemirror_mode": {
    "name": "ipython",
    "version": 3
   },
   "file_extension": ".py",
   "mimetype": "text/x-python",
   "name": "python",
   "nbconvert_exporter": "python",
   "pygments_lexer": "ipython3",
   "version": "3.6.2"
  }
 },
 "nbformat": 4,
 "nbformat_minor": 2
}
