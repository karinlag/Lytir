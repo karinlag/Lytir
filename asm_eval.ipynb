{
 "cells": [
  {
   "cell_type": "code",
   "execution_count": null,
   "metadata": {},
   "outputs": [],
   "source": [
    "import pandas as pd\n",
    "pd.options.display.float_format = '{:.2f}'.format\n",
    "import numpy as np"
   ]
  },
  {
   "cell_type": "code",
   "execution_count": null,
   "metadata": {},
   "outputs": [],
   "source": [
    "headcrop15 = pd.read_csv(\"../testdata/headcrop15_transposed_report.tsv\", delimiter=\"\\t\")\n",
    "standard = pd.read_csv(\"../testdata/standard_transposed_report.tsv\", delimiter=\"\\t\")\n",
    "q2 = pd.read_csv(\"../testdata/q2_transposed_report.tsv\", delimiter=\"\\t\")\n",
    "q8 = pd.read_csv(\"../testdata/q8_transposed_report.tsv\", delimiter=\"\\t\")\n",
    "q20 = pd.read_csv(\"../testdata/q20_transposed_report.tsv\", delimiter='\\t')\n",
    "filedict= {'headcrop15': headcrop15, 'standard': standard, 'q2':q2, 'q8': q8, 'q20':q20}\n",
    "paramlist = ['N50','# contigs', '# contigs (>= 1000 bp)', 'Total length', 'Largest contig', 'Genome fraction (%)']"
   ]
  },
  {
   "cell_type": "code",
   "execution_count": null,
   "metadata": {},
   "outputs": [],
   "source": [
    "def make_asm_eval_table(filedict, paramlist):\n",
    "    df = pd.DataFrame(index=filedict.keys(), columns = paramlist)\n",
    "    for qfile in filedict.keys():\n",
    "        for param in paramlist:\n",
    "            #print(np.mean(filedict[qfile][param]))\n",
    "            df.loc[qfile, param] = np.mean(filedict[qfile][param])\n",
    "            #print(qfile, param, df.loc[qfile, param])\n",
    "    return df\n",
    "make_asm_eval_table(filedict, paramlist)\n",
    "    "
   ]
  },
  {
   "cell_type": "code",
   "execution_count": null,
   "metadata": {},
   "outputs": [],
   "source": []
  }
 ],
 "metadata": {
  "kernelspec": {
   "display_name": "Python 3",
   "language": "python",
   "name": "python3"
  },
  "language_info": {
   "codemirror_mode": {
    "name": "ipython",
    "version": 3
   },
   "file_extension": ".py",
   "mimetype": "text/x-python",
   "name": "python",
   "nbconvert_exporter": "python",
   "pygments_lexer": "ipython3",
   "version": "3.6.3"
  }
 },
 "nbformat": 4,
 "nbformat_minor": 2
}
