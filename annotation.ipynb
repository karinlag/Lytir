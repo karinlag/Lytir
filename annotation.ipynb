{
 "cells": [
  {
   "cell_type": "code",
   "execution_count": null,
   "metadata": {},
   "outputs": [],
   "source": [
    "import sys\n",
    "!conda install --yes --prefix {sys.prefix} Biopython"
   ]
  },
  {
   "cell_type": "code",
   "execution_count": null,
   "metadata": {},
   "outputs": [],
   "source": [
    "import Bio\n",
    "from Bio import SeqIO"
   ]
  },
  {
   "cell_type": "code",
   "execution_count": null,
   "metadata": {},
   "outputs": [],
   "source": [
    "gbkfile = \"../testdata/2018-03-05-coursetest/usegenus/myeco_03022018.gbk\""
   ]
  },
  {
   "cell_type": "code",
   "execution_count": null,
   "metadata": {},
   "outputs": [],
   "source": [
    "typeset = set()\n",
    "for record in SeqIO.parse(gbkfile, \"genbank\"):\n",
    "    for feature in record.features:\n",
    "        typeset.add(feature.type)\n",
    "typeset"
   ]
  },
  {
   "cell_type": "markdown",
   "metadata": {},
   "source": [
    "Please note, I need to find the specification to make sure I look for all features that I want."
   ]
  },
  {
   "cell_type": "code",
   "execution_count": null,
   "metadata": {},
   "outputs": [],
   "source": [
    "import pandas as pd\n",
    "import numpy as np\n",
    "from Bio import SeqIO\n",
    "gbkA = SeqIO.read(\"../testdata/genome_references/genomes/ecoli/NC_000913.gbk\", \"genbank\")\n",
    "gbkB = SeqIO.read(\"../testdata/genome_references/genomes/ecoli/NC_002695.gbk\", \"genbank\")\n",
    "columns = ['GenomeID', 'geneid','start', 'stop', 'dir', 'type']\n",
    "contents = []\n",
    "for gbk in [gbkA, gbkB]:\n",
    "    for feature in gbk.features:\n",
    "        if feature.type in ['rRNA', 'tRNA', 'gene', 'CDS', \"ncRNA\", 'tmRNA']:\n",
    "            # I do this because having a gene name, while common, is not mandatory\n",
    "            # according to the genbank specification\n",
    "            genename = feature.qualifiers.get('gene', np.NaN)\n",
    "            if not pd.isnull(genename):\n",
    "                genename = genename[0]\n",
    "            contents.append([gbk.id, genename, feature.location.start, feature.location.end, feature.location.strand, feature.type])\n",
    "df = pd.DataFrame(contents, columns = columns)"
   ]
  },
  {
   "cell_type": "code",
   "execution_count": null,
   "metadata": {},
   "outputs": [],
   "source": [
    "genomeTable = df.groupby([df.GenomeID,df.type]).size()\n",
    "genomeTable.unstack(\"GenomeID\")"
   ]
  },
  {
   "cell_type": "markdown",
   "metadata": {},
   "source": [
    "TODOsL\n",
    "\n",
    "* try using actual prokka generated gbk files and/or gff files\n",
    "* enable people to input a directory using a glob.\n",
    "* want method that lets users fetch \"their favourite gene\" from all of the genomes in question and put to file\n",
    "* want method that draws the environment of their favourite gene(s) from a selection of genomes\n",
    "    for this, integrate with https://github.com/Edinburgh-Genome-Foundry/DnaFeaturesViewerimport \n"
   ]
  },
  {
   "cell_type": "code",
   "execution_count": null,
   "metadata": {},
   "outputs": [],
   "source": [
    "#import sys\n",
    "#!{sys.executable} -m pip install dna_features_viewer\n",
    "#!{sys.executable} -m pip install bokeh"
   ]
  },
  {
   "cell_type": "code",
   "execution_count": null,
   "metadata": {},
   "outputs": [],
   "source": [
    "% matplotlib notebook\n",
    "from dna_features_viewer import GraphicFeature, GraphicRecord\n",
    "features=[\n",
    "    GraphicFeature(start=0, end=20, strand=+1, color=\"#ffd700\",\n",
    "                   label=\"Small feature\"),\n",
    "    GraphicFeature(start=20, end=500, strand=+1, color=\"#ffcccc\",\n",
    "                   label=\"Gene 1 with a very long name\"),\n",
    "    GraphicFeature(start=400, end=700, strand=-1, color=\"#cffccc\",\n",
    "                   label=\"Gene 2\"),\n",
    "    GraphicFeature(start=600, end=900, strand=+1, color=\"#ccccff\",\n",
    "                   label=\"Gene 3\")\n",
    "]\n",
    "record = GraphicRecord(sequence_length=1000, features=features)\n",
    "record.plot(figure_width=5)"
   ]
  }
 ],
 "metadata": {
  "kernelspec": {
   "display_name": "Python 3",
   "language": "python",
   "name": "python3"
  },
  "language_info": {
   "codemirror_mode": {
    "name": "ipython",
    "version": 3
   },
   "file_extension": ".py",
   "mimetype": "text/x-python",
   "name": "python",
   "nbconvert_exporter": "python",
   "pygments_lexer": "ipython3",
   "version": "3.6.3"
  }
 },
 "nbformat": 4,
 "nbformat_minor": 2
}
